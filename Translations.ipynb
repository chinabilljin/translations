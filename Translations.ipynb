{
  "nbformat": 4,
  "nbformat_minor": 0,
  "metadata": {
    "colab": {
      "provenance": []
    },
    "kernelspec": {
      "display_name": "Python 3",
      "name": "python3"
    }
  },
  "cells": [
    {
      "cell_type": "code",
      "metadata": {
        "id": "XMQuuun2R06J"
      },
      "source": [
        "# %%capture\n",
        "!pip install git+https://github.com/neuml/txtai#egg=txtai[pipeline]"
      ],
      "execution_count": null,
      "outputs": []
    },
    {
      "cell_type": "code",
      "source": [
        "exit()"
      ],
      "metadata": {
        "id": "KgniwWHZ7wlF"
      },
      "execution_count": 2,
      "outputs": []
    },
    {
      "cell_type": "code",
      "source": [
        "!pip install gTTS"
      ],
      "metadata": {
        "id": "zKTQAgNXinB0"
      },
      "execution_count": null,
      "outputs": []
    },
    {
      "cell_type": "code",
      "metadata": {
        "id": "nTDwXOUeTH2-"
      },
      "source": [
        "# %%capture\n",
        "\n",
        "from txtai.pipeline import Translation\n",
        "\n",
        "\n",
        "# Create translation model\n",
        "translate = Translation()"
      ],
      "execution_count": 6,
      "outputs": []
    },
    {
      "cell_type": "code",
      "metadata": {
        "id": "8jLxGtwNf0Aj"
      },
      "source": [
        "from gtts import gTTS\n",
        "\n",
        "#languages = [\"fr\", \"zh\"]\n",
        "languages = [\"fr\", \"es\", \"de\", \"hi\", \"ja\", \"zh\"]\n",
        "#translations = [translate(\"The sky is blue, the stars are far\", language) for language in languages]\n",
        "translations = [translate(\"I have a dream that my four little children will one day live in a nation where they will not be judged by the color of their skin but by the content of their character\", language) for language in languages]\n",
        "\n",
        "def run():\n",
        "\n",
        "\n",
        "\n",
        "  english = translate(translations, \"en\")\n",
        "\n",
        "  for x, text in enumerate(translations):\n",
        "    print(\"Original Language: %s\" % languages[x])\n",
        "    print(\"Translation: %s\" % text)\n",
        "    print(\"Back to English: %s\" % english[x])\n",
        "\n",
        "    text_to_say = text\n",
        "\n",
        "    language = languages[x]\n",
        "\n",
        "    gtts_object = gTTS(text = text_to_say,\n",
        "                  lang = language,\n",
        "                  slow = False)\n",
        "    print(f\"sent to TTS: {text} in language: {language}\")\n",
        "    #gtts_object.save(f\"/content/gtts_{language}.wav\")\n",
        "    #Audio(f\"/content/gtts_{language}.wav\")\n",
        "    print(f\"/content/gtts{x}.wav\")\n",
        "    gtts_object.save(f\"/content/gtts{x}.wav\")\n",
        "\n",
        "\n",
        "    print()\n",
        "\n",
        "# Run multiple translations\n",
        "run()"
      ],
      "execution_count": null,
      "outputs": []
    },
    {
      "cell_type": "code",
      "source": [
        "import time\n",
        "import IPython.display as ipd\n",
        "from IPython.display import Audio\n",
        "for x, text in enumerate(translations):\n",
        "    print(f\"/content/gtts{x}.wav - speak in language:{languages[x]} - {text}\")\n",
        "    ipd.display(ipd.Audio(f\"/content/gtts{x}.wav\", autoplay=True))\n",
        "    time.sleep(5)\n",
        "    #Audio.display(Audio.Audio( f\"/content/gtts{x}.wav\" , autoplay=True))"
      ],
      "metadata": {
        "id": "L1fycLsaqovO"
      },
      "execution_count": null,
      "outputs": []
    }
  ]
}